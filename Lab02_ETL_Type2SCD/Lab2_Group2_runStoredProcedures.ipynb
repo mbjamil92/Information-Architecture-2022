{
 "cells": [
  {
   "cell_type": "code",
   "execution_count": 1,
   "metadata": {},
   "outputs": [
    {
     "name": "stdout",
     "output_type": "stream",
     "text": [
      "Connected to database.\n",
      "Dimension tables updated.\n",
      "Fact tables updated.\n",
      "Disconnected from database.\n"
     ]
    }
   ],
   "source": [
    "#Author: Brandon Chiazza\n",
    "#Reference: \n",
    "#https://downloads.mysql.com/docs/connector-python-en.a4.pdf\n",
    "\n",
    "# import MySQL connector\n",
    "import mysql.connector\n",
    "from mysql.connector import errorcode\n",
    "\n",
    "# connect to server\n",
    "connection = mysql.connector.connect(user='root', password='H',host='127.0.0.1', port ='3306')\n",
    "\n",
    "\n",
    "print('Connected to database.')\n",
    "cursor = connection.cursor()\n",
    "\n",
    "###Test query to see if you can connect\n",
    "#query = \"select * from dav6100_db_2.r_ctry;\"\n",
    "#cursor.execute(query)\n",
    "#result = cursor.fetchall()\n",
    "#print(result)\n",
    "\n",
    "#Call Dimension Tables Stored Procedure\n",
    "cursor.callproc('dav6100_db_2_dw.updateDimensionsProc')\n",
    "print('Dimension tables updated.')\n",
    "\n",
    "#Call Fact Tables Stored Procedure\n",
    "cursor.callproc('dav6100_db_2_dw.updateFacts')\n",
    "print('Fact tables updated.')\n",
    "\n",
    "connection.commit()\n",
    "connection.close()\n",
    "print('Disconnected from database.')\n",
    "\n"
   ]
  },
  {
   "cell_type": "code",
   "execution_count": null,
   "metadata": {},
   "outputs": [],
   "source": []
  }
 ],
 "metadata": {
  "kernelspec": {
   "display_name": "Python 3",
   "language": "python",
   "name": "python3"
  },
  "language_info": {
   "codemirror_mode": {
    "name": "ipython",
    "version": 3
   },
   "file_extension": ".py",
   "mimetype": "text/x-python",
   "name": "python",
   "nbconvert_exporter": "python",
   "pygments_lexer": "ipython3",
   "version": "3.8.5"
  }
 },
 "nbformat": 4,
 "nbformat_minor": 4
}
