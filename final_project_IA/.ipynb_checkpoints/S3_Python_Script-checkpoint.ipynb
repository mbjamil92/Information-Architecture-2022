{
 "cells": [
  {
   "cell_type": "markdown",
   "id": "bc0238f1",
   "metadata": {},
   "source": [
    "# Information Architectures Final Project"
   ]
  },
  {
   "cell_type": "markdown",
   "id": "02b0a0ef",
   "metadata": {},
   "source": [
    "### Submitted by :\n",
    "\n",
    "* Muhammad Bilal Jamil\n",
    "* Te Li\n",
    "* Mark Kaplan\n",
    "\n",
    "### Submitted to : Prof. Chiazza"
   ]
  },
  {
   "cell_type": "code",
   "execution_count": 9,
   "id": "4b5cea7d",
   "metadata": {},
   "outputs": [],
   "source": [
    "#Importing useful libraries to work with APIs:\n",
    "import pandas as pd\n",
    "import numpy as np\n",
    "import matplotlib.pyplot as plt\n",
    "import seaborn as sns\n",
    "import s3fs as s3\n",
    "import logging\n",
    "import boto3\n",
    "from botocore.exceptions import ClientError\n",
    "import awscli\n",
    "from selenium import webdriver\n",
    "from selenium.webdriver.common.by import By\n",
    "from selenium.webdriver.support.ui import WebDriverWait\n",
    "from selenium.webdriver.common.keys import Keys\n",
    "from selenium.webdriver.support import expected_conditions as EC\n",
    "import time\n",
    "import io\n",
    "import os"
   ]
  },
  {
   "cell_type": "code",
   "execution_count": 11,
   "id": "8827ee47",
   "metadata": {},
   "outputs": [],
   "source": [
    "# loading our final project 1st 2 data sources:\n",
    "source1_df = pd.read_csv(r'/Users/Bilal/Documents/Bilal Files/Yeshiva/Spring 2022/Final Project/Datasets/Traffic_Tickets_Issued__Four_Year_Window.csv')\n",
    "source2_df = pd.read_csv(r'/Users/Bilal/Documents/Bilal Files/Yeshiva/Spring 2022/Final Project/Datasets/Motor_Vehicle_Crashes_-_Violation_Information__Three_Year_Window.csv')"
   ]
  },
  {
   "cell_type": "code",
   "execution_count": 12,
   "id": "5bd8ec30",
   "metadata": {
    "scrolled": true
   },
   "outputs": [
    {
     "name": "stdout",
     "output_type": "stream",
     "text": [
      "<class 'pandas.core.frame.DataFrame'>\n",
      "RangeIndex: 11902573 entries, 0 to 11902572\n",
      "Data columns (total 11 columns):\n",
      " #   Column                  Dtype  \n",
      "---  ------                  -----  \n",
      " 0   Violation Charged Code  object \n",
      " 1   Violation Description   object \n",
      " 2   Violation Year          int64  \n",
      " 3   Violation Month         int64  \n",
      " 4   Violation Day of Week   object \n",
      " 5   Age at Violation        float64\n",
      " 6   Gender                  object \n",
      " 7   State of License        object \n",
      " 8   Police Agency           object \n",
      " 9   Court                   object \n",
      " 10  Source                  object \n",
      "dtypes: float64(1), int64(2), object(8)\n",
      "memory usage: 998.9+ MB\n"
     ]
    }
   ],
   "source": [
    "source1_df.info()"
   ]
  },
  {
   "cell_type": "code",
   "execution_count": 13,
   "id": "4218d6f2",
   "metadata": {},
   "outputs": [
    {
     "name": "stdout",
     "output_type": "stream",
     "text": [
      "<class 'pandas.core.frame.DataFrame'>\n",
      "RangeIndex: 238044 entries, 0 to 238043\n",
      "Data columns (total 4 columns):\n",
      " #   Column                 Non-Null Count   Dtype \n",
      "---  ------                 --------------   ----- \n",
      " 0   Year                   238044 non-null  int64 \n",
      " 1   Violation Description  238044 non-null  object\n",
      " 2   Violation Code         238044 non-null  object\n",
      " 3   Case Individual ID     238044 non-null  int64 \n",
      "dtypes: int64(2), object(2)\n",
      "memory usage: 7.3+ MB\n"
     ]
    }
   ],
   "source": [
    "source2_df.info()"
   ]
  },
  {
   "cell_type": "code",
   "execution_count": 2,
   "id": "ecdd3e25",
   "metadata": {},
   "outputs": [],
   "source": [
    "# Creating a functions which will help me create the S3 bucket in my AWS S3 environment:\n",
    "\n",
    "def create_bucket(bucket_name, region=None):\n",
    "    \"\"\"Create an S3 bucket in a specified region\n",
    "\n",
    "    If a region is not specified, the bucket is created in the S3 default\n",
    "    region (us-east-1).\n",
    "\n",
    "    :param bucket_name: Bucket to create\n",
    "    :param region: String region to create bucket in, e.g., 'us-west-2'\n",
    "    :return: True if bucket created, else False\n",
    "    \"\"\"\n",
    "\n",
    "    # Create bucket\n",
    "    try:\n",
    "        if region is None:\n",
    "            s3_client = boto3.client('s3')\n",
    "            s3_client.create_bucket(Bucket=bucket_name)\n",
    "        else:\n",
    "            s3_client = boto3.client('s3', region_name=region)\n",
    "            location = {'LocationConstraint': region}\n",
    "            s3_client.create_bucket(Bucket=bucket_name,\n",
    "                                    CreateBucketConfiguration=location)\n",
    "    except ClientError as e:\n",
    "        logging.error(e)\n",
    "        return False\n",
    "    return True"
   ]
  },
  {
   "cell_type": "code",
   "execution_count": 3,
   "id": "1e53409f",
   "metadata": {},
   "outputs": [
    {
     "data": {
      "text/plain": [
       "True"
      ]
     },
     "execution_count": 3,
     "metadata": {},
     "output_type": "execute_result"
    }
   ],
   "source": [
    "create_bucket('final-project-ia-2022')"
   ]
  },
  {
   "cell_type": "code",
   "execution_count": 4,
   "id": "f6ad3837",
   "metadata": {},
   "outputs": [
    {
     "name": "stdout",
     "output_type": "stream",
     "text": [
      "Existing buckets:\n",
      "  dealerships.nys\n",
      "  final-project-ia-2022\n",
      "  information-arch-mbj-assignment-8a\n",
      "  m10-assignment-charities-bucket\n"
     ]
    }
   ],
   "source": [
    "# Retrieve the list of existing buckets\n",
    "s3 = boto3.client('s3')\n",
    "response = s3.list_buckets()\n",
    "\n",
    "# Output the bucket names\n",
    "print('Existing buckets:')\n",
    "for bucket in response['Buckets']:\n",
    "    print(f'  {bucket[\"Name\"]}')"
   ]
  },
  {
   "cell_type": "code",
   "execution_count": null,
   "id": "33c3d06a",
   "metadata": {},
   "outputs": [],
   "source": []
  }
 ],
 "metadata": {
  "kernelspec": {
   "display_name": "Python 3",
   "language": "python",
   "name": "python3"
  },
  "language_info": {
   "codemirror_mode": {
    "name": "ipython",
    "version": 3
   },
   "file_extension": ".py",
   "mimetype": "text/x-python",
   "name": "python",
   "nbconvert_exporter": "python",
   "pygments_lexer": "ipython3",
   "version": "3.8.8"
  }
 },
 "nbformat": 4,
 "nbformat_minor": 5
}
