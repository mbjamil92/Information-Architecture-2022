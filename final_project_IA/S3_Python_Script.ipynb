{
 "cells": [
  {
   "cell_type": "markdown",
   "id": "5707a1ee",
   "metadata": {},
   "source": [
    "# Information Architectures Final Project"
   ]
  },
  {
   "cell_type": "markdown",
   "id": "3317d01a",
   "metadata": {},
   "source": [
    "### Submitted by :\n",
    "\n",
    "* Muhammad Bilal Jamil\n",
    "* Te Li\n",
    "* Mark Kaplan\n",
    "\n",
    "### Submitted to : Prof. Chiazza"
   ]
  },
  {
   "cell_type": "code",
   "execution_count": 9,
   "id": "ee71ad86",
   "metadata": {},
   "outputs": [],
   "source": [
    "#Importing useful libraries to work with APIs:\n",
    "import pandas as pd\n",
    "import numpy as np\n",
    "import matplotlib.pyplot as plt\n",
    "import seaborn as sns\n",
    "import s3fs as s3\n",
    "import logging\n",
    "import boto3\n",
    "from botocore.exceptions import ClientError\n",
    "import awscli\n",
    "from selenium import webdriver\n",
    "from selenium.webdriver.common.by import By\n",
    "from selenium.webdriver.support.ui import WebDriverWait\n",
    "from selenium.webdriver.common.keys import Keys\n",
    "from selenium.webdriver.support import expected_conditions as EC\n",
    "import time\n",
    "import io\n",
    "import os"
   ]
  },
  {
   "cell_type": "code",
   "execution_count": 11,
   "id": "2d6eb399",
   "metadata": {},
   "outputs": [],
   "source": [
    "# loading our final project 1st 2 data sources:\n",
    "source1_df = pd.read_csv(r'/Users/Bilal/Documents/Bilal Files/Yeshiva/Spring 2022/Final Project/Datasets/Traffic_Tickets_Issued__Four_Year_Window.csv')\n",
    "source2_df = pd.read_csv(r'/Users/Bilal/Documents/Bilal Files/Yeshiva/Spring 2022/Final Project/Datasets/Motor_Vehicle_Crashes_-_Violation_Information__Three_Year_Window.csv')"
   ]
  },
  {
   "cell_type": "code",
   "execution_count": 12,
   "id": "6a351cb9",
   "metadata": {
    "scrolled": false
   },
   "outputs": [
    {
     "name": "stdout",
     "output_type": "stream",
     "text": [
      "<class 'pandas.core.frame.DataFrame'>\n",
      "RangeIndex: 11902573 entries, 0 to 11902572\n",
      "Data columns (total 11 columns):\n",
      " #   Column                  Dtype  \n",
      "---  ------                  -----  \n",
      " 0   Violation Charged Code  object \n",
      " 1   Violation Description   object \n",
      " 2   Violation Year          int64  \n",
      " 3   Violation Month         int64  \n",
      " 4   Violation Day of Week   object \n",
      " 5   Age at Violation        float64\n",
      " 6   Gender                  object \n",
      " 7   State of License        object \n",
      " 8   Police Agency           object \n",
      " 9   Court                   object \n",
      " 10  Source                  object \n",
      "dtypes: float64(1), int64(2), object(8)\n",
      "memory usage: 998.9+ MB\n"
     ]
    }
   ],
   "source": [
    "source1_df.info()"
   ]
  },
  {
   "cell_type": "code",
   "execution_count": 19,
   "id": "2f74f72c",
   "metadata": {},
   "outputs": [
    {
     "data": {
      "text/html": [
       "<div>\n",
       "<style scoped>\n",
       "    .dataframe tbody tr th:only-of-type {\n",
       "        vertical-align: middle;\n",
       "    }\n",
       "\n",
       "    .dataframe tbody tr th {\n",
       "        vertical-align: top;\n",
       "    }\n",
       "\n",
       "    .dataframe thead th {\n",
       "        text-align: right;\n",
       "    }\n",
       "</style>\n",
       "<table border=\"1\" class=\"dataframe\">\n",
       "  <thead>\n",
       "    <tr style=\"text-align: right;\">\n",
       "      <th></th>\n",
       "      <th>Violation Charged Code</th>\n",
       "      <th>Violation Description</th>\n",
       "      <th>Violation Year</th>\n",
       "      <th>Violation Month</th>\n",
       "      <th>Violation Day of Week</th>\n",
       "      <th>Age at Violation</th>\n",
       "      <th>Gender</th>\n",
       "      <th>State of License</th>\n",
       "      <th>Police Agency</th>\n",
       "      <th>Court</th>\n",
       "      <th>Source</th>\n",
       "    </tr>\n",
       "  </thead>\n",
       "  <tbody>\n",
       "    <tr>\n",
       "      <th>0</th>\n",
       "      <td>1229C3</td>\n",
       "      <td>NO SEAT BELT ADULT</td>\n",
       "      <td>2018</td>\n",
       "      <td>1</td>\n",
       "      <td>SUNDAY</td>\n",
       "      <td>49.0</td>\n",
       "      <td>M</td>\n",
       "      <td>NEW YORK</td>\n",
       "      <td>NYC POLICE DEPT</td>\n",
       "      <td>BRONX TVB</td>\n",
       "      <td>TVB</td>\n",
       "    </tr>\n",
       "    <tr>\n",
       "      <th>1</th>\n",
       "      <td>1180D12</td>\n",
       "      <td>SPEED IN ZONE 11-30</td>\n",
       "      <td>2018</td>\n",
       "      <td>1</td>\n",
       "      <td>SUNDAY</td>\n",
       "      <td>17.0</td>\n",
       "      <td>M</td>\n",
       "      <td>NEW YORK</td>\n",
       "      <td>NYC POLICE DEPT</td>\n",
       "      <td>BRONX TVB</td>\n",
       "      <td>TVB</td>\n",
       "    </tr>\n",
       "    <tr>\n",
       "      <th>2</th>\n",
       "      <td>37512A2</td>\n",
       "      <td>SIDEWINGS/SIDEWINDOWS/NON/TRANSPARENT</td>\n",
       "      <td>2018</td>\n",
       "      <td>1</td>\n",
       "      <td>SUNDAY</td>\n",
       "      <td>54.0</td>\n",
       "      <td>M</td>\n",
       "      <td>NEW JERSEY</td>\n",
       "      <td>NYC POLICE DEPT</td>\n",
       "      <td>MANHATTAN SOUTH TVB</td>\n",
       "      <td>TVB</td>\n",
       "    </tr>\n",
       "    <tr>\n",
       "      <th>3</th>\n",
       "      <td>37512A3</td>\n",
       "      <td>REAR SIDE WINDOWS NON/TRANSPARENT</td>\n",
       "      <td>2018</td>\n",
       "      <td>1</td>\n",
       "      <td>SUNDAY</td>\n",
       "      <td>21.0</td>\n",
       "      <td>M</td>\n",
       "      <td>NEW YORK</td>\n",
       "      <td>NYC POLICE DEPT</td>\n",
       "      <td>MANHATTAN SOUTH TVB</td>\n",
       "      <td>TVB</td>\n",
       "    </tr>\n",
       "    <tr>\n",
       "      <th>4</th>\n",
       "      <td>1180D12</td>\n",
       "      <td>SPEED IN ZONE 11-30</td>\n",
       "      <td>2018</td>\n",
       "      <td>1</td>\n",
       "      <td>SUNDAY</td>\n",
       "      <td>22.0</td>\n",
       "      <td>M</td>\n",
       "      <td>NEW YORK</td>\n",
       "      <td>NYC POLICE DEPT</td>\n",
       "      <td>BROOKLYN SOUTH TVB</td>\n",
       "      <td>TVB</td>\n",
       "    </tr>\n",
       "  </tbody>\n",
       "</table>\n",
       "</div>"
      ],
      "text/plain": [
       "  Violation Charged Code                  Violation Description  \\\n",
       "0                 1229C3                     NO SEAT BELT ADULT   \n",
       "1                1180D12                    SPEED IN ZONE 11-30   \n",
       "2                37512A2  SIDEWINGS/SIDEWINDOWS/NON/TRANSPARENT   \n",
       "3                37512A3      REAR SIDE WINDOWS NON/TRANSPARENT   \n",
       "4                1180D12                    SPEED IN ZONE 11-30   \n",
       "\n",
       "   Violation Year  Violation Month Violation Day of Week  Age at Violation  \\\n",
       "0            2018                1                SUNDAY              49.0   \n",
       "1            2018                1                SUNDAY              17.0   \n",
       "2            2018                1                SUNDAY              54.0   \n",
       "3            2018                1                SUNDAY              21.0   \n",
       "4            2018                1                SUNDAY              22.0   \n",
       "\n",
       "  Gender State of License    Police Agency                Court Source  \n",
       "0      M         NEW YORK  NYC POLICE DEPT            BRONX TVB    TVB  \n",
       "1      M         NEW YORK  NYC POLICE DEPT            BRONX TVB    TVB  \n",
       "2      M       NEW JERSEY  NYC POLICE DEPT  MANHATTAN SOUTH TVB    TVB  \n",
       "3      M         NEW YORK  NYC POLICE DEPT  MANHATTAN SOUTH TVB    TVB  \n",
       "4      M         NEW YORK  NYC POLICE DEPT   BROOKLYN SOUTH TVB    TVB  "
      ]
     },
     "execution_count": 19,
     "metadata": {},
     "output_type": "execute_result"
    }
   ],
   "source": [
    "source1_df.head()"
   ]
  },
  {
   "cell_type": "code",
   "execution_count": 13,
   "id": "43689f3b",
   "metadata": {},
   "outputs": [
    {
     "name": "stdout",
     "output_type": "stream",
     "text": [
      "<class 'pandas.core.frame.DataFrame'>\n",
      "RangeIndex: 238044 entries, 0 to 238043\n",
      "Data columns (total 4 columns):\n",
      " #   Column                 Non-Null Count   Dtype \n",
      "---  ------                 --------------   ----- \n",
      " 0   Year                   238044 non-null  int64 \n",
      " 1   Violation Description  238044 non-null  object\n",
      " 2   Violation Code         238044 non-null  object\n",
      " 3   Case Individual ID     238044 non-null  int64 \n",
      "dtypes: int64(2), object(2)\n",
      "memory usage: 7.3+ MB\n"
     ]
    }
   ],
   "source": [
    "source2_df.info()"
   ]
  },
  {
   "cell_type": "code",
   "execution_count": 2,
   "id": "de9e22fa",
   "metadata": {},
   "outputs": [],
   "source": [
    "# Creating a functions which will help me create the S3 bucket in my AWS S3 environment:\n",
    "\n",
    "def create_bucket(bucket_name, region=None):\n",
    "    \"\"\"Create an S3 bucket in a specified region\n",
    "\n",
    "    If a region is not specified, the bucket is created in the S3 default\n",
    "    region (us-east-1).\n",
    "\n",
    "    :param bucket_name: Bucket to create\n",
    "    :param region: String region to create bucket in, e.g., 'us-west-2'\n",
    "    :return: True if bucket created, else False\n",
    "    \"\"\"\n",
    "\n",
    "    # Create bucket\n",
    "    try:\n",
    "        if region is None:\n",
    "            s3_client = boto3.client('s3')\n",
    "            s3_client.create_bucket(Bucket=bucket_name)\n",
    "        else:\n",
    "            s3_client = boto3.client('s3', region_name=region)\n",
    "            location = {'LocationConstraint': region}\n",
    "            s3_client.create_bucket(Bucket=bucket_name,\n",
    "                                    CreateBucketConfiguration=location)\n",
    "    except ClientError as e:\n",
    "        logging.error(e)\n",
    "        return False\n",
    "    return True"
   ]
  },
  {
   "cell_type": "code",
   "execution_count": 3,
   "id": "bd97bc7c",
   "metadata": {},
   "outputs": [
    {
     "data": {
      "text/plain": [
       "True"
      ]
     },
     "execution_count": 3,
     "metadata": {},
     "output_type": "execute_result"
    }
   ],
   "source": [
    "create_bucket('final-project-ia-2022')"
   ]
  },
  {
   "cell_type": "code",
   "execution_count": 4,
   "id": "a8b28431",
   "metadata": {},
   "outputs": [
    {
     "name": "stdout",
     "output_type": "stream",
     "text": [
      "Existing buckets:\n",
      "  dealerships.nys\n",
      "  final-project-ia-2022\n",
      "  information-arch-mbj-assignment-8a\n",
      "  m10-assignment-charities-bucket\n"
     ]
    }
   ],
   "source": [
    "# Retrieve the list of existing buckets\n",
    "s3 = boto3.client('s3')\n",
    "response = s3.list_buckets()\n",
    "\n",
    "# Output the bucket names\n",
    "print('Existing buckets:')\n",
    "for bucket in response['Buckets']:\n",
    "    print(f'  {bucket[\"Name\"]}')"
   ]
  },
  {
   "cell_type": "code",
   "execution_count": null,
   "id": "ceacc05a",
   "metadata": {},
   "outputs": [],
   "source": []
  }
 ],
 "metadata": {
  "kernelspec": {
   "display_name": "Python 3",
   "language": "python",
   "name": "python3"
  },
  "language_info": {
   "codemirror_mode": {
    "name": "ipython",
    "version": 3
   },
   "file_extension": ".py",
   "mimetype": "text/x-python",
   "name": "python",
   "nbconvert_exporter": "python",
   "pygments_lexer": "ipython3",
   "version": "3.8.8"
  }
 },
 "nbformat": 4,
 "nbformat_minor": 5
}
